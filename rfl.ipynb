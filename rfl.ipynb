{
  "nbformat": 4,
  "nbformat_minor": 0,
  "metadata": {
    "colab": {
      "provenance": []
    },
    "kernelspec": {
      "name": "python3",
      "display_name": "Python 3"
    },
    "language_info": {
      "name": "python"
    }
  },
  "cells": [
    {
      "cell_type": "code",
      "execution_count": 2,
      "metadata": {
        "colab": {
          "base_uri": "https://localhost:8080/"
        },
        "id": "NUSnyNo7ZPeB",
        "outputId": "ec84c350-cf54-407e-b9f6-540ed5d8d5a5"
      },
      "outputs": [
        {
          "output_type": "stream",
          "name": "stdout",
          "text": [
            "State space: Box([-4.8000002e+00 -3.4028235e+38 -4.1887903e-01 -3.4028235e+38], [4.8000002e+00 3.4028235e+38 4.1887903e-01 3.4028235e+38], (4,), float32)\n",
            "Action space: Discrete(2)\n",
            "Action: 0, Reward: 1.0, Next State: [-0.02634998 -0.23877458  0.04689946  0.34357834], Done: False, Info: {}\n",
            "Action: 1, Reward: 1.0, Next State: [-0.03112547 -0.04435013  0.05377103  0.06604572], Done: False, Info: {}\n",
            "Action: 0, Reward: 1.0, Next State: [-0.03201247 -0.24020013  0.05509195  0.3751972 ], Done: False, Info: {}\n",
            "Action: 0, Reward: 1.0, Next State: [-0.03681647 -0.43605956  0.06259589  0.68472946], Done: False, Info: {}\n",
            "Action: 0, Reward: 1.0, Next State: [-0.04553767 -0.63199216  0.07629048  0.9964439 ], Done: False, Info: {}\n",
            "Action: 0, Reward: 1.0, Next State: [-0.05817751 -0.82804686  0.09621936  1.3120782 ], Done: False, Info: {}\n",
            "Action: 0, Reward: 1.0, Next State: [-0.07473844 -1.0242463   0.12246092  1.6332611 ], Done: False, Info: {}\n",
            "Action: 1, Reward: 1.0, Next State: [-0.09522337 -0.83075655  0.15512614  1.3811134 ], Done: False, Info: {}\n",
            "Action: 1, Reward: 1.0, Next State: [-0.1118385 -0.6378732  0.1827484  1.140687 ], Done: False, Info: {}\n",
            "Action: 1, Reward: 1.0, Next State: [-0.12459597 -0.4455482   0.20556216  0.91043293], Done: False, Info: {}\n"
          ]
        }
      ],
      "source": [
        "import gym\n",
        "import numpy as np\n",
        "import warnings\n",
        "\n",
        "# Suppress specific deprecation warnings\n",
        "warnings.filterwarnings(\"ignore\", category=DeprecationWarning)\n",
        "\n",
        "# Load the environment with render mode specified\n",
        "env = gym.make('CartPole-v1', render_mode=\"human\")\n",
        "\n",
        "# Initialize the environment to get the initial state\n",
        "state = env.reset()\n",
        "\n",
        "# Print the state space and action space\n",
        "print(\"State space:\", env.observation_space)\n",
        "print(\"Action space:\", env.action_space)\n",
        "\n",
        "# Run a few steps in the environment with random actions\n",
        "for _ in range(10):\n",
        "    env.render()  # Render the environment for visualization\n",
        "    action = env.action_space.sample()  # Take a random action\n",
        "\n",
        "    # Take a step in the environment\n",
        "    step_result = env.step(action)\n",
        "\n",
        "    # Check the number of values returned and unpack accordingly\n",
        "    if len(step_result) == 4:\n",
        "        next_state, reward, done, info = step_result\n",
        "        terminated = False\n",
        "    else:\n",
        "        next_state, reward, done, truncated, info = step_result\n",
        "        terminated = done or truncated\n",
        "\n",
        "    print(f\"Action: {action}, Reward: {reward}, Next State: {next_state}, Done: {done}, Info: {info}\")\n",
        "\n",
        "    if terminated:\n",
        "        state = env.reset()  # Reset the environment if the episode is finished\n",
        "\n",
        "env.close()  # Close the environment when done\n"
      ]
    }
  ]
}